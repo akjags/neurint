{
 "cells": [
  {
   "cell_type": "code",
   "execution_count": 5,
   "id": "3ba8150b-6fc5-41ff-96bb-229288ded7c2",
   "metadata": {},
   "outputs": [],
   "source": [
    "import torch\n",
    "import torch.nn as nn\n",
    "import torch.nn.functional as F\n",
    "import torch.optim as optim\n",
    "\n",
    "from PIL import Image\n",
    "import matplotlib.pyplot as plt\n",
    "import numpy as np\n",
    "\n",
    "import torchvision.transforms as transforms\n",
    "import torchvision.models as models\n",
    "\n",
    "import copy, os, time, sys, h5py, pickle, argparse\n",
    "from sklearn.cross_decomposition import PLSRegression\n",
    "from tqdm import tqdm"
   ]
  },
  {
   "cell_type": "code",
   "execution_count": 20,
   "id": "3e9b695d-2cd4-4c2a-ab99-fa348372944b",
   "metadata": {},
   "outputs": [
    {
     "name": "stdout",
     "output_type": "stream",
     "text": [
      "cpu\n"
     ]
    }
   ],
   "source": [
    "device = torch.device(\"cuda\" if torch.cuda.is_available() else \"cpu\")\n",
    "print(device)\n",
    "\n",
    "def get_model(layer_name = 'pool4'):\n",
    "    cnn = models.vgg19(pretrained=True).features.to(device).eval()\n",
    "    \n",
    "    i=j=1\n",
    "    model = nn.Sequential()\n",
    "    layer_names = []\n",
    "    for layer in cnn.children():\n",
    "        if isinstance(layer, nn.Conv2d):\n",
    "            name = 'conv{}_{}'.format(i, j)\n",
    "            j+=1\n",
    "        elif isinstance(layer, nn.ReLU):\n",
    "            name = 'relu{}_{}'.format(i, j)\n",
    "            layer = nn.ReLU(inplace=False)\n",
    "        elif isinstance(layer, nn.MaxPool2d):\n",
    "            name = 'pool{}'.format(i)\n",
    "            i+=1; j=1;\n",
    "        elif isinstance(layer, nn.BatchNorm2d):\n",
    "            name = 'bn{}'.format(i)\n",
    "        else:\n",
    "            raise RuntimeError('Unrecognized layer: {}'.format(layer.__class__.__name__))\n",
    "        model.add_module(name, layer)\n",
    "        if name == layer_name:\n",
    "            break\n",
    "    return model\n",
    "\n",
    "def load_fit_weights(layer, area, ver='V6'):\n",
    "    ROOTDIR = '/home/gru/akshay/neurint'\n",
    "    if area == 'V1':\n",
    "        filepath = f'{ROOTDIR}/model_fits/{area}_vgg19_{layer}-fit_5-components.pickle'\n",
    "    else:\n",
    "        filepath = f'{ROOTDIR}/model_fits/{area}_vgg19_{layer}-fit_5-components_{ver}.pickle'\n",
    "    print(filepath)\n",
    "    if os.path.isfile(filepath):\n",
    "        results = np.load(filepath, allow_pickle=True)\n",
    "        weights = np.array(results[f'{area.lower()}_weights']).squeeze()\n",
    "        return weights\n",
    "    else:\n",
    "        print(f'Weight file not found : {filepath}')\n",
    "        return None\n",
    "\n",
    "def image_loader(image_name):\n",
    "    imsize = 256 if torch.cuda.is_available() else 128  # use small size if no gpu\n",
    "\n",
    "    loader = transforms.Compose([\n",
    "            transforms.Resize(imsize),  # scale imported image\n",
    "            transforms.CenterCrop(imsize),\n",
    "            transforms.ToTensor()])  # transform it into a torch tensor\n",
    "\n",
    "    image = Image.open(image_name)\n",
    "    # fake batch dimension required to fit network's input dimensions\n",
    "    image = loader(image).unsqueeze(0)\n",
    "    return image.to(device, torch.float)\n",
    "\n",
    "def get_neural_model_response(images, layer, area):\n",
    "    model = get_model(layer)\n",
    "    W = torch.from_numpy(load_fit_weights(layer, area).T).to(device)\n",
    "\n",
    "    neural_responses = [] \n",
    "    for i_image in tqdm(range(len(images)), desc='Extracting model responses'): \n",
    "        input_image = image_loader(images[i_image])\n",
    "        model_response = model(input_image).detach()\n",
    "        neural_response = torch.matmul(model_response.float(), W.float()).detach().cpu().numpy()\n",
    "\n",
    "        neural_responses.append(neural_response.flatten())\n",
    "    return np.array(neural_responses)"
   ]
  },
  {
   "cell_type": "code",
   "execution_count": 21,
   "id": "b28ed279-bc82-40a5-9d6d-dc354843b2aa",
   "metadata": {},
   "outputs": [
    {
     "name": "stdout",
     "output_type": "stream",
     "text": [
      "/home/gru/akshay/neurint/model_fits/IT_vgg19_pool4-fit_5-components_V6.pickle\n",
      "Weight file not found : /home/gru/akshay/neurint/model_fits/IT_vgg19_pool4-fit_5-components_V6.pickle\n"
     ]
    },
    {
     "ename": "AttributeError",
     "evalue": "'NoneType' object has no attribute 'T'",
     "output_type": "error",
     "traceback": [
      "\u001b[0;31m---------------------------------------------------------------------------\u001b[0m",
      "\u001b[0;31mAttributeError\u001b[0m                            Traceback (most recent call last)",
      "\u001b[0;32m<ipython-input-21-7c98e9fe12b9>\u001b[0m in \u001b[0;36m<module>\u001b[0;34m\u001b[0m\n\u001b[1;32m      5\u001b[0m           'outputs/bw/rocks_leaves_100_pool4-IT_s1.png']\n\u001b[1;32m      6\u001b[0m \u001b[0;34m\u001b[0m\u001b[0m\n\u001b[0;32m----> 7\u001b[0;31m \u001b[0mIT_responses\u001b[0m \u001b[0;34m=\u001b[0m \u001b[0mget_neural_model_response\u001b[0m\u001b[0;34m(\u001b[0m\u001b[0mimages\u001b[0m\u001b[0;34m,\u001b[0m \u001b[0;34m'pool4'\u001b[0m\u001b[0;34m,\u001b[0m \u001b[0;34m'IT'\u001b[0m\u001b[0;34m)\u001b[0m\u001b[0;34m\u001b[0m\u001b[0;34m\u001b[0m\u001b[0m\n\u001b[0m",
      "\u001b[0;32m<ipython-input-20-2efe6919e2a0>\u001b[0m in \u001b[0;36mget_neural_model_response\u001b[0;34m(images, layer, area)\u001b[0m\n\u001b[1;32m     57\u001b[0m \u001b[0;32mdef\u001b[0m \u001b[0mget_neural_model_response\u001b[0m\u001b[0;34m(\u001b[0m\u001b[0mimages\u001b[0m\u001b[0;34m,\u001b[0m \u001b[0mlayer\u001b[0m\u001b[0;34m,\u001b[0m \u001b[0marea\u001b[0m\u001b[0;34m)\u001b[0m\u001b[0;34m:\u001b[0m\u001b[0;34m\u001b[0m\u001b[0;34m\u001b[0m\u001b[0m\n\u001b[1;32m     58\u001b[0m     \u001b[0mmodel\u001b[0m \u001b[0;34m=\u001b[0m \u001b[0mget_model\u001b[0m\u001b[0;34m(\u001b[0m\u001b[0mlayer\u001b[0m\u001b[0;34m)\u001b[0m\u001b[0;34m\u001b[0m\u001b[0;34m\u001b[0m\u001b[0m\n\u001b[0;32m---> 59\u001b[0;31m     \u001b[0mW\u001b[0m \u001b[0;34m=\u001b[0m \u001b[0mtorch\u001b[0m\u001b[0;34m.\u001b[0m\u001b[0mfrom_numpy\u001b[0m\u001b[0;34m(\u001b[0m\u001b[0mload_fit_weights\u001b[0m\u001b[0;34m(\u001b[0m\u001b[0mlayer\u001b[0m\u001b[0;34m,\u001b[0m \u001b[0marea\u001b[0m\u001b[0;34m)\u001b[0m\u001b[0;34m.\u001b[0m\u001b[0mT\u001b[0m\u001b[0;34m)\u001b[0m\u001b[0;34m.\u001b[0m\u001b[0mto\u001b[0m\u001b[0;34m(\u001b[0m\u001b[0mdevice\u001b[0m\u001b[0;34m)\u001b[0m\u001b[0;34m\u001b[0m\u001b[0;34m\u001b[0m\u001b[0m\n\u001b[0m\u001b[1;32m     60\u001b[0m \u001b[0;34m\u001b[0m\u001b[0m\n\u001b[1;32m     61\u001b[0m     \u001b[0mneural_responses\u001b[0m \u001b[0;34m=\u001b[0m \u001b[0;34m[\u001b[0m\u001b[0;34m]\u001b[0m\u001b[0;34m\u001b[0m\u001b[0;34m\u001b[0m\u001b[0m\n",
      "\u001b[0;31mAttributeError\u001b[0m: 'NoneType' object has no attribute 'T'"
     ]
    }
   ],
   "source": [
    "images = ['outputs/bw/rocks_leaves_0_pool4-IT_s1.png', \n",
    "          'outputs/bw/rocks_leaves_25_pool4-IT_s1.png',\n",
    "          'outputs/bw/rocks_leaves_50_pool4-IT_s1.png',\n",
    "          'outputs/bw/rocks_leaves_75_pool4-IT_s1.png',\n",
    "          'outputs/bw/rocks_leaves_100_pool4-IT_s1.png']\n",
    "\n",
    "IT_responses = get_neural_model_response(images, 'pool4', 'IT')"
   ]
  },
  {
   "cell_type": "code",
   "execution_count": null,
   "id": "72059398-f4f0-4320-8060-1ccf7fa1233b",
   "metadata": {},
   "outputs": [],
   "source": []
  }
 ],
 "metadata": {
  "kernelspec": {
   "display_name": "Python 3",
   "language": "python",
   "name": "python3"
  },
  "language_info": {
   "codemirror_mode": {
    "name": "ipython",
    "version": 3
   },
   "file_extension": ".py",
   "mimetype": "text/x-python",
   "name": "python",
   "nbconvert_exporter": "python",
   "pygments_lexer": "ipython3",
   "version": "3.9.1"
  }
 },
 "nbformat": 4,
 "nbformat_minor": 5
}
